{
 "cells": [
  {
   "cell_type": "markdown",
   "id": "5c9d1744",
   "metadata": {},
   "source": [
    "# api_experiment_get_start_skeleton(experiment_id)\n",
    "\n",
    "The method returns the skeleton of the payload for `api_experiment_start(experiment_id)`. \n",
    "\n",
    "From `help experiment.service.db.ExperimentRestAPI.api_experiment_get_start_skeleton()` we can see:\n"
   ]
  },
  {
   "cell_type": "code",
   "execution_count": 1,
   "id": "2f9b1332",
   "metadata": {},
   "outputs": [
    {
     "name": "stdout",
     "output_type": "stream",
     "text": [
      "Help on function api_experiment_get_start_skeleton in module experiment.service.db:\n",
      "\n",
      "api_experiment_get_start_skeleton(self, experiment_id: 'str') -> 'Dict[str, Any]'\n",
      "    Generates a skeleton payload for the api_experiment_start(experiment_id) method along with\n",
      "    instructions to populate the skeleton payload.\n",
      "    \n",
      "    Args:\n",
      "        experiment_id:\n",
      "            Unique identifier of the experiment package (as stored on the consumable computing\n",
      "            REST API server)\n",
      "    \n",
      "    Returns:\n",
      "        A Dictionary with the following format: ::\n",
      "    \n",
      "    \n",
      "            {\n",
      "                \"payload\": {\n",
      "                    the payload in dictionary form, fields that the user can fill in contain a\n",
      "                    {{$magicValue}} string e.g. \"{{OptionalVariableOverrideFoo}}\"\n",
      "                },\n",
      "                \"magicValues\": {\n",
      "                    $magicValue: {\n",
      "                        \"message\": \"A human readable message explaining what\n",
      "                                 the user can do when they come across this $magicValue\"\n",
      "                        }\n",
      "                }\n",
      "            }\n",
      "\n"
     ]
    }
   ],
   "source": [
    "import experiment.service.db\n",
    "\n",
    "help(experiment.service.db.ExperimentRestAPI.api_experiment_get_start_skeleton)"
   ]
  },
  {
   "cell_type": "markdown",
   "id": "dbd6cfdc-291d-4819-9556-3a50e8fad460",
   "metadata": {},
   "source": [
    "Login to your ST4SD instance - See `ST4SD Runtime API Example.ipynb` for more details.\n",
    "\n",
    "**Note**: If you don't remember the URL to your ST4SD instance log on your OpenShift environment and get the URL of the route `st4sd-authentication` in the namespace that you deployed ST4SD in."
   ]
  },
  {
   "cell_type": "code",
   "execution_count": 12,
   "id": "d3b82112-b414-4b1c-892c-c7c31baca7f5",
   "metadata": {},
   "outputs": [
    {
     "name": "stdout",
     "output_type": "stream",
     "text": [
      "Visit this URL to get your authentication token:\n",
      "https://st4sd-5446-dev.ve-5446-9ca4d14d48413d18ce61b80811ba4308-0000.us-south.containers.appdomain.cloud/authorisation/token\n"
     ]
    }
   ],
   "source": [
    "route_st4sd_runtime_service = 'your https:// URL here'\n",
    "\n",
    "auth_url = '/'.join((route_st4sd_runtime_service.rstrip(\"/\"), 'authorisation/token'))\n",
    "print(f\"Visit this URL to get your authentication token:\\n{auth_url}\")\n"
   ]
  },
  {
   "cell_type": "markdown",
   "id": "c7ed4dc0-c109-4293-82f9-e12157cd622e",
   "metadata": {},
   "source": [
    "Fill in your token below"
   ]
  },
  {
   "cell_type": "code",
   "execution_count": 44,
   "id": "9b171858-05e0-4e47-8730-e985450c12ef",
   "metadata": {},
   "outputs": [],
   "source": [
    "auth_token=\"your token goes here\""
   ]
  },
  {
   "cell_type": "code",
   "execution_count": 27,
   "id": "b04e003b-f0a9-4f9a-a37e-e70889b0a0b5",
   "metadata": {},
   "outputs": [
    {
     "name": "stdout",
     "output_type": "stream",
     "text": [
      "You've successfully authenticated to https://st4sd-5446-dev.ve-5446-9ca4d14d48413d18ce61b80811ba4308-0000.us-south.containers.appdomain.cloud\n"
     ]
    }
   ],
   "source": [
    "# Ensure that your account is authorised to use the ST4SD Runtime Service REST API\n",
    "try:\n",
    "    api = experiment.service.db.ExperimentRestAPI(\n",
    "        route_st4sd_runtime_service, max_retries=2, secs_between_retries=1,\n",
    "        cc_auth_token=auth_token\n",
    "    )\n",
    "except experiment.service.errors.UnauthorisedRequest as e:\n",
    "    print(f\"Visit {auth_url} to retrieve your authentication token. Then use it to set the value of \"\n",
    "          \"\\\"auth_token\\\" in the above cell. Execute that cell and then execute this one.\")\n",
    "else:\n",
    "    print(f\"You've successfully authenticated to {route_st4sd_runtime_service}\")"
   ]
  },
  {
   "cell_type": "markdown",
   "id": "e82b5647-e469-4c19-89c4-7fe230544dd4",
   "metadata": {},
   "source": [
    "Next, let's try to get the payload skeleton for executing the [nanopore-geometry-experiment](https://registry.st4sd.res.ibm.com/registry-ui/experiment/nanopore-geometry-experiment) experiment.\n",
    "\n",
    "If you don't have it already in your st4sd-runtime-service registry, take a moment to import it now."
   ]
  },
  {
   "cell_type": "code",
   "execution_count": 39,
   "id": "fa502179-9529-4884-96cd-1cd40c50314c",
   "metadata": {},
   "outputs": [],
   "source": [
    "import json\n",
    "\n",
    "experiment_id = \"nanopore-geometry-experiment\"\n",
    "\n",
    "try:\n",
    "    pkg = api.api_experiment_get(experiment_id)\n",
    "except experiment.service.errors.InvalidHTTPRequest as e:\n",
    "    if e.response.status_code == 404:\n",
    "        pkg = None\n",
    "\n",
    "if not pkg:\n",
    "    raise ValueError(f\"There is no experiment {experiment_id}\")\n",
    "\n",
    "\n",
    "skeleton = api.api_experiment_get_start_skeleton(experiment_id)\n",
    "\n",
    "payload_template = skeleton[\"payload\"]\n",
    "payload_instructions = skeleton[\"magicValues\"]"
   ]
  },
  {
   "cell_type": "markdown",
   "id": "e83455e4-144d-455d-aa79-4c6dbef6a950",
   "metadata": {},
   "source": [
    "Recall that the skeleton consists of 2 fields: `payload` and `magicValues`.\n",
    "\n",
    "The `payload` field is a template which references `magicValues` that a user (you!) can fill:"
   ]
  },
  {
   "cell_type": "code",
   "execution_count": 40,
   "id": "c73a43a8-3612-46dd-85e6-a8e01cf4fdf6",
   "metadata": {},
   "outputs": [
    {
     "name": "stdout",
     "output_type": "stream",
     "text": [
      "{\n",
      "  \"platform\": \"{{OptionalPlatform}}\",\n",
      "  \"inputs\": [\n",
      "    {\n",
      "      \"filename\": \"cif_files.dat\",\n",
      "      \"content\": \"{{RequiredInputs_cif_files.dat}}\"\n",
      "    }\n",
      "  ],\n",
      "  \"s3\": {\n",
      "    \"dataset\": \"{{OptionalDatasetForDownload}}\",\n",
      "    \"accessKeyID\": \"{{OptionalS3ForDownload}}\",\n",
      "    \"secretAccessKey\": \"{{OptionalS3ForDownload}}\",\n",
      "    \"bucket\": \"{{OptionalS3ForDownload}}\",\n",
      "    \"endpoint\": \"{{OptionalS3ForDownload}}\",\n",
      "    \"region\": \"{{OptionalS3ForDownload}}\"\n",
      "  },\n",
      "  \"variables\": {\n",
      "    \"numberOfNanopores\": \"{{OptionalVariable_numberOfNanopores}}\",\n",
      "    \"probeRadius_A\": \"{{OptionalVariable_probeRadius_A}}\",\n",
      "    \"zeo_memory\": \"{{OptionalVariable_zeo_memory}}\"\n",
      "  }\n",
      "}\n"
     ]
    }
   ],
   "source": [
    "print(json.dumps(payload_template, indent=2))"
   ]
  },
  {
   "cell_type": "markdown",
   "id": "e3805764-5b7d-4e80-9df0-7c781395ffd2",
   "metadata": {},
   "source": [
    "The `magicValues` field explains how to put together a valid payload:"
   ]
  },
  {
   "cell_type": "code",
   "execution_count": 41,
   "id": "f33b2a00-5094-4d33-b0df-0226f9d6df3e",
   "metadata": {},
   "outputs": [
    {
     "name": "stdout",
     "output_type": "stream",
     "text": [
      "{\n",
      "  \"{{OptionalPlatform}}\": {\n",
      "    \"message\": \"You **may** configure the experiment platform using one of the values ['openshift-cpu', 'openshift', 'openshift-kubeflux']\",\n",
      "    \"choices\": [\n",
      "      \"openshift-cpu\",\n",
      "      \"openshift\",\n",
      "      \"openshift-kubeflux\"\n",
      "    ]\n",
      "  },\n",
      "  \"{{RequiredInputs_input_smiles.csv}}\": {\n",
      "    \"message\": \"You **must** set the content of the input file input_smiles.csv either directly, via inputs[0].content or by omitting the content dictionary and configuring the payload to find the input file in a S3 bucket. For the latter consult the magicValue {{OptionalS3OrDatasetDownload}}\"\n",
      "  },\n",
      "  \"{{OptionalS3ForDownload}}\": {\n",
      "    \"message\": \"You **may** ask the runtime to download files from S3 if you do not use the .content field of entries in the inputs and data array. If you pick to set {{OptionalS3ForDownload}} fields then you must not set {{OptionalDatasetForDownload}} fields. If you decide not to set {{OptionalS3ForDownload}} fields then simply remove the fields from your payload. See also {{OptionalS3OrDatasetDownload}}.\"\n",
      "  },\n",
      "  \"{{OptionalDatasetForDownload}}\": {\n",
      "    \"message\": \"You **may** ask the runtime to download files from an existing Datashim Dataset, if you do not use the .content field of entries in the inputs and data array. If you pick to set {{OptionalDatasetForDownload}} fields then you must not set {{OptionalS3ForDownload}} fields. If you decide not to set {{OptionalDatasetForDownload}} fields then simply remove the fields from your payload. See also {{OptionalS3OrDatasetDownload}}.\"\n",
      "  },\n",
      "  \"{{OptionalS3OrDatasetDownload}}\": {\n",
      "    \"message\": \"You **must** fill in the inputs field. You **may** use the respective [$index].content field to provide the value of the filename OR you may ask the runtime to retrieve the contents of the files from S3/Dataset. The .content field is mutually exclusive with the S3/Dataset settings. When you use S3/Dataset then the .filename field is used as the relative path to the file inside the S3 bucket/Dataset.\"\n",
      "  },\n",
      "  \"{{OptionalVariable_numberMolecules}}\": {\n",
      "    \"message\": \"You **may** set the field variables.numberMolecules to override its default value. You **may** set the value of the field to any string. The default value of this variable depends on experiment platform you select: {'openshift-cpu': '1', 'openshift': '1', 'openshift-kubeflux': '1'}\",\n",
      "    \"choices\": null,\n",
      "    \"defaultFromPlatform\": {\n",
      "      \"openshift-cpu\": \"1\",\n",
      "      \"openshift\": \"1\",\n",
      "      \"openshift-kubeflux\": \"1\"\n",
      "    }\n",
      "  },\n",
      "  \"{{OptionalVariable_startIndex}}\": {\n",
      "    \"message\": \"You **may** set the field variables.startIndex to override its default value. You **may** set the value of the field to any string. The default value of this variable depends on experiment platform you select: {'openshift-cpu': '0', 'openshift': '0', 'openshift-kubeflux': '0'}\",\n",
      "    \"choices\": null,\n",
      "    \"defaultFromPlatform\": {\n",
      "      \"openshift-cpu\": \"0\",\n",
      "      \"openshift\": \"0\",\n",
      "      \"openshift-kubeflux\": \"0\"\n",
      "    }\n",
      "  },\n",
      "  \"{{OptionalVariable_mem}}\": {\n",
      "    \"message\": \"You **may** set the field variables.mem to override its default value. You **may** set the value of the field to any string. The default value of this variable depends on experiment platform you select: {'openshift-cpu': '4295000000', 'openshift': '4295000000', 'openshift-kubeflux': '4295000000'}\",\n",
      "    \"choices\": null,\n",
      "    \"defaultFromPlatform\": {\n",
      "      \"openshift-cpu\": \"4295000000\",\n",
      "      \"openshift\": \"4295000000\",\n",
      "      \"openshift-kubeflux\": \"4295000000\"\n",
      "    }\n",
      "  },\n",
      "  \"{{OptionalVariable_gamess-walltime-minutes}}\": {\n",
      "    \"message\": \"You **may** set the field variables.gamess-walltime-minutes to override its default value. You **may** set the value of the field to any string. The default value of this variable depends on experiment platform you select: {'openshift-cpu': '700', 'openshift': '700', 'openshift-kubeflux': '700'}\",\n",
      "    \"choices\": null,\n",
      "    \"defaultFromPlatform\": {\n",
      "      \"openshift-cpu\": \"700\",\n",
      "      \"openshift\": \"700\",\n",
      "      \"openshift-kubeflux\": \"700\"\n",
      "    }\n",
      "  },\n",
      "  \"{{OptionalVariable_gamess-grace-period-seconds}}\": {\n",
      "    \"message\": \"You **may** set the field variables.gamess-grace-period-seconds to override its default value. You **may** set the value of the field to any string. The default value of this variable depends on experiment platform you select: {'openshift-cpu': '1800', 'openshift': '1800', 'openshift-kubeflux': '1800'}\",\n",
      "    \"choices\": null,\n",
      "    \"defaultFromPlatform\": {\n",
      "      \"openshift-cpu\": \"1800\",\n",
      "      \"openshift\": \"1800\",\n",
      "      \"openshift-kubeflux\": \"1800\"\n",
      "    }\n",
      "  },\n",
      "  \"{{OptionalVariable_number-processors}}\": {\n",
      "    \"message\": \"You **may** set the field variables.number-processors to override its default value. You **may** set the value of the field to any string. The default value of this variable depends on experiment platform you select: {'openshift-cpu': '8', 'openshift': '8', 'openshift-kubeflux': '8'}\",\n",
      "    \"choices\": null,\n",
      "    \"defaultFromPlatform\": {\n",
      "      \"openshift-cpu\": \"8\",\n",
      "      \"openshift\": \"8\",\n",
      "      \"openshift-kubeflux\": \"8\"\n",
      "    }\n",
      "  },\n",
      "  \"{{OptionalVariable_gamess-gpus}}\": {\n",
      "    \"message\": \"You **may** set the field variables.gamess-gpus to override its default value. You **may** set the value of the field to any string. The default value of this variable depends on experiment platform you select: {'openshift-cpu': '0', 'openshift': '0', 'openshift-kubeflux': '0'}\",\n",
      "    \"choices\": null,\n",
      "    \"defaultFromPlatform\": {\n",
      "      \"openshift-cpu\": \"0\",\n",
      "      \"openshift\": \"0\",\n",
      "      \"openshift-kubeflux\": \"0\"\n",
      "    }\n",
      "  },\n",
      "  \"{{RequiredInputs_cif_files.dat}}\": {\n",
      "    \"message\": \"You **must** set the content of the input file cif_files.dat either directly, via inputs[0].content or by omitting the content dictionary and configuring the payload to find the input file in a S3 bucket. For the latter consult the magicValue {{OptionalS3OrDatasetDownload}}\"\n",
      "  },\n",
      "  \"{{OptionalVariable_numberOfNanopores}}\": {\n",
      "    \"message\": \"You **may** set the field variables.numberOfNanopores to override its default value. You **may** set the value of the field to any string.\",\n",
      "    \"choices\": null,\n",
      "    \"defaultFromPlatform\": {\n",
      "      \"openshift\": \"3\"\n",
      "    }\n",
      "  },\n",
      "  \"{{OptionalVariable_probeRadius_A}}\": {\n",
      "    \"message\": \"You **may** set the field variables.probeRadius_A to override its default value. You **may** set the value of the field to any string.\",\n",
      "    \"choices\": null,\n",
      "    \"defaultFromPlatform\": {\n",
      "      \"openshift\": \"1.4\"\n",
      "    }\n",
      "  },\n",
      "  \"{{OptionalVariable_zeo_memory}}\": {\n",
      "    \"message\": \"You **may** set the field variables.zeo_memory to override its default value. You **may** set the value of the field to any string.\",\n",
      "    \"choices\": null,\n",
      "    \"defaultFromPlatform\": {\n",
      "      \"openshift\": \"2Gi\"\n",
      "    }\n",
      "  }\n",
      "}\n"
     ]
    }
   ],
   "source": [
    "print(json.dumps(payload_instructions, indent=2))"
   ]
  },
  {
   "cell_type": "markdown",
   "id": "acbf0706-adce-44ea-8b6b-7c995a518456",
   "metadata": {},
   "source": [
    "As you can see, the minimum payload is:\n",
    "\n",
    "```json\n",
    "{\n",
    "   \"inputs\": [\n",
    "    {\n",
    "      \"filename\": \"cif_files.dat\",\n",
    "      \"content\": \"{{RequiredInputs_cif_files.dat}}\"\n",
    "    }\n",
    "  ]\n",
    "}\n",
    "```\n",
    "\n",
    "The instructions for populating `inputs[0].content` are:"
   ]
  },
  {
   "cell_type": "code",
   "execution_count": 45,
   "id": "45014aaa-f195-41e2-a9f1-3a500ffa41e0",
   "metadata": {},
   "outputs": [
    {
     "name": "stdout",
     "output_type": "stream",
     "text": [
      "{'message': 'You **must** set the content of the input file cif_files.dat either directly, via inputs[0].content or by omitting the content dictionary and configuring the payload to find the input file in a S3 bucket. For the latter consult the magicValue {{OptionalS3OrDatasetDownload}}'}\n"
     ]
    }
   ],
   "source": [
    "print(payload_instructions[\"{{RequiredInputs_cif_files.dat}}\"])"
   ]
  },
  {
   "cell_type": "markdown",
   "id": "5ee85c35-5de9-4b5b-b934-4a40853d7c74",
   "metadata": {},
   "source": [
    "If you prefer to use a Dataset (using Datashim) or a S3 bucket to provide the input file then from the above message you can see that there are instructions in the magicValue `{{OptionalS3OrDatasetDownload}}` which you can follow to fill in the `s3` field:"
   ]
  },
  {
   "cell_type": "code",
   "execution_count": 48,
   "id": "0bbd5cac-b84f-4a33-bcce-1499c09d0bd3",
   "metadata": {},
   "outputs": [
    {
     "name": "stdout",
     "output_type": "stream",
     "text": [
      "{\n",
      "  \"dataset\": \"{{OptionalDatasetForDownload}}\",\n",
      "  \"accessKeyID\": \"{{OptionalS3ForDownload}}\",\n",
      "  \"secretAccessKey\": \"{{OptionalS3ForDownload}}\",\n",
      "  \"bucket\": \"{{OptionalS3ForDownload}}\",\n",
      "  \"endpoint\": \"{{OptionalS3ForDownload}}\",\n",
      "  \"region\": \"{{OptionalS3ForDownload}}\"\n",
      "}\n"
     ]
    }
   ],
   "source": [
    "print(json.dumps(payload_template[\"s3\"], indent=2))"
   ]
  },
  {
   "cell_type": "markdown",
   "id": "dfa1d8f1-098b-4ef9-976e-15c79861bfaa",
   "metadata": {},
   "source": [
    "The instructions are:"
   ]
  },
  {
   "cell_type": "code",
   "execution_count": 51,
   "id": "d09eb44f-ff40-435f-97fc-970fe942a2a8",
   "metadata": {},
   "outputs": [
    {
     "name": "stdout",
     "output_type": "stream",
     "text": [
      "{'message': 'You **may** ask the runtime to download files from S3 if you do not use the .content field of entries in the inputs and data array. If you pick to set {{OptionalS3ForDownload}} fields then you must not set {{OptionalDatasetForDownload}} fields. If you decide not to set {{OptionalS3ForDownload}} fields then simply remove the fields from your payload. See also {{OptionalS3OrDatasetDownload}}.'}\n"
     ]
    }
   ],
   "source": [
    "print(payload_instructions[\"{{OptionalS3ForDownload}}\"])"
   ]
  },
  {
   "cell_type": "code",
   "execution_count": null,
   "id": "90c60293-5a3f-473f-96ec-e9a2cb0168cf",
   "metadata": {},
   "outputs": [],
   "source": []
  }
 ],
 "metadata": {
  "kernelspec": {
   "display_name": "Python 3 (ipykernel)",
   "language": "python",
   "name": "python3"
  },
  "language_info": {
   "codemirror_mode": {
    "name": "ipython",
    "version": 3
   },
   "file_extension": ".py",
   "mimetype": "text/x-python",
   "name": "python",
   "nbconvert_exporter": "python",
   "pygments_lexer": "ipython3",
   "version": "3.10.13"
  }
 },
 "nbformat": 4,
 "nbformat_minor": 5
}
